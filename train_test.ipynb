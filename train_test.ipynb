{
 "cells": [
  {
   "cell_type": "code",
   "execution_count": 1,
   "id": "d9ef31e4",
   "metadata": {},
   "outputs": [
    {
     "name": "stderr",
     "output_type": "stream",
     "text": [
      "E:\\anaconda\\envs\\afl\\lib\\site-packages\\tqdm\\auto.py:21: TqdmWarning: IProgress not found. Please update jupyter and ipywidgets. See https://ipywidgets.readthedocs.io/en/stable/user_install.html\n",
      "  from .autonotebook import tqdm as notebook_tqdm\n"
     ]
    }
   ],
   "source": [
    "import os\n",
    "import time\n",
    "import numpy as np\n",
    "import torch\n",
    "from torch.utils.data import DataLoader\n",
    "from torchvision import datasets, transforms\n",
    "from torch import optim\n",
    "from torch.optim.lr_scheduler import StepLR\n",
    "from tqdm import tqdm\n",
    "\n",
    "from model import LRFCNN\n",
    "from loss import FrequencyAwareAdaptiveFocalLoss\n",
    "from evaluation_metrics import compute_metrics"
   ]
  },
  {
   "cell_type": "code",
   "execution_count": 2,
   "id": "64f4cde6",
   "metadata": {},
   "outputs": [],
   "source": [
    "# Data directories (modify these paths according to your environment)\n",
    "train_dir = r'C:\\Users\\linglingyuan\\Desktop\\split_dataset2\\train'\n",
    "val_dir   = r'C:\\Users\\linglingyuan\\Desktop\\split_dataset2\\val'\n",
    "test_dir  = r'C:\\Users\\linglingyuan\\Desktop\\split_dataset2\\test'"
   ]
  },
  {
   "cell_type": "code",
   "execution_count": 3,
   "id": "1a1468a2",
   "metadata": {},
   "outputs": [
    {
     "name": "stdout",
     "output_type": "stream",
     "text": [
      "Training set size: 1059\n",
      "Validation set size: 349\n",
      "Test set size: 349\n"
     ]
    }
   ],
   "source": [
    "# Define data transformations (resize images to 299x299, convert to Tensor, and normalize)\n",
    "data_transform = transforms.Compose([\n",
    "    transforms.Resize((299, 299)),\n",
    "    transforms.ToTensor(),\n",
    "    transforms.Normalize(mean=[0.5203, 0.3638, 0.6511],\n",
    "                         std=[0.2339, 0.2535, 0.1455])\n",
    "])\n",
    "\n",
    "# Use ImageFolder to load the datasets\n",
    "train_dataset = datasets.ImageFolder(train_dir, transform=data_transform)\n",
    "val_dataset   = datasets.ImageFolder(val_dir, transform=data_transform)\n",
    "test_dataset  = datasets.ImageFolder(test_dir, transform=data_transform)\n",
    "\n",
    "batch_size = 8\n",
    "train_loader = DataLoader(train_dataset, batch_size=batch_size, shuffle=True, drop_last=False)\n",
    "val_loader   = DataLoader(val_dataset, batch_size=batch_size, shuffle=False, drop_last=False)\n",
    "test_loader  = DataLoader(test_dataset, batch_size=batch_size, shuffle=False, drop_last=False)\n",
    "\n",
    "print(f'Training set size: {len(train_dataset)}')\n",
    "print(f'Validation set size: {len(val_dataset)}')\n",
    "print(f'Test set size: {len(test_dataset)}')"
   ]
  },
  {
   "cell_type": "code",
   "execution_count": 4,
   "id": "8a56c757",
   "metadata": {},
   "outputs": [],
   "source": [
    "# Model, loss function, optimizer, and learning rate scheduler\n",
    "device = torch.device('cuda' if torch.cuda.is_available() else 'cpu')\n",
    "model = LRFCNN(num_classes=5, dropconnect_prob=0.5).to(device)\n",
    "\n",
    "criterion = FrequencyAwareAdaptiveFocalLoss(num_classes=5, base_alpha=0.5, base_beta=3.0, margin_const=1.0, reduction='mean')\n",
    "optimizer = optim.Adam(model.parameters(), lr=0.0001, weight_decay=1e-5)\n",
    "scheduler = StepLR(optimizer, step_size=20, gamma=0.5)"
   ]
  },
  {
   "cell_type": "code",
   "execution_count": null,
   "id": "73177a8f",
   "metadata": {},
   "outputs": [
    {
     "name": "stderr",
     "output_type": "stream",
     "text": [
      "Epoch 1/100 Training:   5%|██▋                                                         | 6/133 [00:04<01:31,  1.39it/s]"
     ]
    }
   ],
   "source": [
    "num_epochs = 100\n",
    "best_val_accuracy = 0.0 \n",
    "global_train_start = time.time()\n",
    "total_train_images = 0\n",
    "\n",
    "for epoch in range(num_epochs):\n",
    "    model.train()\n",
    "    total_correct = 0\n",
    "    total_samples = 0\n",
    "    epoch_start_time = time.time()\n",
    "    \n",
    "    # Training loop (only accuracy is computed during training)\n",
    "    for inputs, labels in tqdm(train_loader, desc=f\"Epoch {epoch+1}/{num_epochs} Training\"):\n",
    "        inputs, labels = inputs.to(device), labels.to(device)\n",
    "        optimizer.zero_grad()\n",
    "        outputs = model(inputs)\n",
    "        loss = criterion(outputs, labels)\n",
    "        loss.backward()\n",
    "        optimizer.step()\n",
    "        \n",
    "        # Calculate the batch accuracy\n",
    "        _, predicted = torch.max(outputs, 1)\n",
    "        total_correct += (predicted == labels).sum().item()\n",
    "        total_samples += labels.size(0)\n",
    "    \n",
    "    # Accumulate total training images processed\n",
    "    total_train_images += total_samples\n",
    "\n",
    "    epoch_end_time = time.time()\n",
    "    epoch_time = epoch_end_time - epoch_start_time\n",
    "    train_accuracy = total_correct / total_samples\n",
    "    \n",
    "    print(f\"Epoch {epoch+1}/{num_epochs} - Training Accuracy: {train_accuracy:.4f}\")\n",
    "    \n",
    "    scheduler.step()\n",
    "    \n",
    "    # Validation process (compute evaluation metrics)\n",
    "    model.eval()\n",
    "    val_preds, val_labels = [], []\n",
    "    with torch.no_grad():\n",
    "        for inputs, labels in tqdm(val_loader, desc=\"Validation\"):\n",
    "            inputs, labels = inputs.to(device), labels.to(device)\n",
    "            outputs = model(inputs)\n",
    "            _, predicted = torch.max(outputs, 1)\n",
    "            val_preds.extend(predicted.cpu().numpy())\n",
    "            val_labels.extend(labels.cpu().numpy())\n",
    "    \n",
    "    metrics = compute_metrics(np.array(val_labels), np.array(val_preds))\n",
    "    print(\"Validation Metrics:\")\n",
    "    print(f\"  Accuracy  : {metrics['accuracy']:.4f}\")\n",
    "    print(f\"  Precision : {metrics['precision']:.4f}\")\n",
    "    print(f\"  Recall    : {metrics['recall']:.4f}\")\n",
    "    print(f\"  F1-score  : {metrics['f1_score']:.4f}\")\n",
    "    print(f\"  G-mean    : {metrics['gmean']:.4f}\")\n",
    "    print(f\"  MCC       : {metrics['mcc']:.4f}\")\n",
    "\n",
    "    # Save best model if improved\n",
    "    if metrics['accuracy'] > best_val_accuracy:\n",
    "        best_val_accuracy = metrics['accuracy']\n",
    "        torch.save(model.state_dict(), \"best_model.pth\")\n",
    "        print(f\"Saved best model with validation accuracy: {best_val_accuracy:.4f}\")\n",
    "\n",
    "    # Save a checkpoint for the current epoch\n",
    "    checkpoint = {\n",
    "        'epoch': epoch + 1,\n",
    "        'model_state_dict': model.state_dict(),\n",
    "        'optimizer_state_dict': optimizer.state_dict(),\n",
    "        'scheduler_state_dict': scheduler.state_dict(),\n",
    "        'train_accuracy': train_accuracy,\n",
    "        'val_accuracy': metrics['accuracy'],\n",
    "        'loss': loss.item()\n",
    "    }\n",
    "    checkpoint_path = f'checkpoint_epoch_{epoch+1}.pth'\n",
    "    torch.save(checkpoint, checkpoint_path)\n",
    "    print(f\"Checkpoint saved for epoch {epoch+1} to {checkpoint_path}\")\n",
    "\n",
    "# After training, compute overall training time per 100 images.\n",
    "global_train_end = time.time()\n",
    "total_train_time = global_train_end - global_train_start\n",
    "train_time_per_100 = (total_train_time / total_train_images) * 100\n",
    "print(f\"Total Training Time per 100 images: {train_time_per_100:.4f} seconds\")"
   ]
  },
  {
   "cell_type": "code",
   "execution_count": null,
   "id": "9221773b",
   "metadata": {},
   "outputs": [],
   "source": [
    "model.eval()\n",
    "test_preds, test_labels = [], []\n",
    "test_start_time = time.time()\n",
    "with torch.no_grad():\n",
    "    for inputs, labels in tqdm(test_loader, desc=\"Testing\"):\n",
    "        inputs, labels = inputs.to(device), labels.to(device)\n",
    "        outputs = model(inputs)\n",
    "        _, predicted = torch.max(outputs, 1)\n",
    "        test_preds.extend(predicted.cpu().numpy())\n",
    "        test_labels.extend(labels.cpu().numpy())\n",
    "test_end_time = time.time()\n",
    "\n",
    "total_test_time = test_end_time - test_start_time\n",
    "avg_test_time = total_test_time / len(test_dataset)\n",
    "\n",
    "metrics = compute_metrics(np.array(test_labels), np.array(test_preds))\n",
    "print(\"Test Metrics:\")\n",
    "print(f\"  Accuracy  : {metrics['accuracy']:.4f}\")\n",
    "print(f\"  Precision : {metrics['precision']:.4f}\")\n",
    "print(f\"  Recall    : {metrics['recall']:.4f}\")\n",
    "print(f\"  F1-score  : {metrics['f1_score']:.4f}\")\n",
    "print(f\"  G-mean    : {metrics['gmean']:.4f}\")\n",
    "print(f\"  MCC       : {metrics['mcc']:.4f}\")\n",
    "print(f\"Average Test Time per image: {avg_test_time:.4f} seconds\")"
   ]
  }
 ],
 "metadata": {
  "kernelspec": {
   "display_name": "afl",
   "language": "python",
   "name": "afl"
  },
  "language_info": {
   "codemirror_mode": {
    "name": "ipython",
    "version": 3
   },
   "file_extension": ".py",
   "mimetype": "text/x-python",
   "name": "python",
   "nbconvert_exporter": "python",
   "pygments_lexer": "ipython3",
   "version": "3.8.18"
  }
 },
 "nbformat": 4,
 "nbformat_minor": 5
}
